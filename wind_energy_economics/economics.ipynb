{
 "cells": [
  {
   "cell_type": "markdown",
   "metadata": {},
   "source": [
    "# Economics behind wind turbine"
   ]
  },
  {
   "cell_type": "markdown",
   "metadata": {},
   "source": [
    "AEP – Annual Energy Production, годовая выработка электроэнергии (кВт·ч или МВт·ч, в зависимости от единиц).\n",
    "\n",
    "O&M rate – ставка эксплуатационных и операционных расходов (€/кВт·ч или €/МВт·ч).\n",
    "\n",
    "ESP – цена продажи электроэнергии (€/кВт·ч или €/МВт·ч).\n",
    "\n",
    "R – ставка дисконтирования (например, 8% = 0.08).\n",
    "\n",
    "CI – начальные капитальные затраты (Capital Investment, €).\n",
    "\n",
    "DC – затраты на демонтаж (Decommissioning Cost) в конце срока эксплуатации, €.\n",
    "years – количество лет проекта (по умолчанию 20).\n",
    "\n",
    "**Formulas for Economics**\n",
    "\n",
    "1. **O&M costs (€ per year)**  \n",
    "   OnM_cost_year = AEP * OnM_cost\n",
    "\n",
    "2. **Annual Revenue (AR)**  \n",
    "   AR = AEP * ESP\n",
    "\n",
    "3. **Annual Net Income (ANI)**  \n",
    "   ANI = AR - om_costs_per_year\n",
    "\n",
    "4. **Net Present Value (NPV) Чистая приведённая стоимость**  \n",
    "   for p in range(1, P + 1):\n",
    "      NPV += ANI / (1 + R) ** p\n",
    "\n",
    "5. **Present Value of O&M costs (PVM) Приведённая стоимость O&M**  \n",
    "   for p in range(1, P + 1):\n",
    "      PVM += OnM_cost_year / (1 + R) ** p\n",
    "\n",
    "6. **Present Value of Decommissioning Cost (PVD) Приведённая стоимость затрат на демонтаж (PVD), если демонтаж происходит в последний год (p = years):**  \n",
    "   PVD = DC / ((1 + R) ** 20)\n",
    "\n",
    "7. **Present Value of Costs (PVC) Общая приведённая стоимость затрат**  \n",
    "   PVC = CI + PVM + PVD\n",
    "\n",
    "8. **Levelized Annual Cost (LAC / PMT) эквивалентная годовая плата, которую нужно «погашать» каждый год, чтобы окупить PVC**  \n",
    "   LAC = PVC * (R / (1 - (1 / ((1 + R) ** P))))\n",
    "\n",
    "9. **Levelized Cost of Energy (LCoE) средняя стоимость производства 1 кВт·ч с учетом всех расходов**  \n",
    "   LCOE = LAC / AEP\n",
    "\n"
   ]
  },
  {
   "cell_type": "markdown",
   "metadata": {},
   "source": [
    "## Parameters"
   ]
  },
  {
   "cell_type": "code",
   "execution_count": 42,
   "metadata": {},
   "outputs": [],
   "source": [
    "# -- given\n",
    "\n",
    "AEP = 110000000 # -- annual energy production (kWh) \n",
    "ESP = 0.075  # -- electricity selling price (€/kWh)\n",
    "CI = 65000000 # -- capital investment (€) \n",
    "R = 0.08 # -- Annual discount rate (%) \n",
    "P = 20 # -- Period of years (years) \n",
    "DC = 3000000 # -- decommissioning costs (€)\n",
    "OnM_cost = 0.0091 # -- annual operating and maintenance cost per kWh(€/kWh) \n",
    "WFC = 50000 # - - Wind farm capacity (kWh)\n",
    "\n",
    "# -- to find\n",
    "\n",
    "# AR # -- annual revenue from selling the electricity (€/year) \n",
    "# ANI # -- annual net income (€/year) \n",
    "# NPV # -- net present value (€)\n",
    "# OnM_cost_year # -- annual operating and maintenance cost\n",
    "# PVDC # -- present value of the cost of decommissioning (€) \n",
    "# PVC # -- present value of all the costs (€) \n",
    "# LAC # -- levellised annual cost (€) \n",
    "# LCoE # -- levellised cost of energy (€/kWh) \n",
    "# PVM # -- present value maintenance and repair cost \n",
    "# FV # -- future value \n",
    "# PV # -- the value today of an amount of money in the future."
   ]
  },
  {
   "cell_type": "markdown",
   "metadata": {},
   "source": [
    "## Calculation of the net present value (NPV) of wind farm projects"
   ]
  },
  {
   "cell_type": "code",
   "execution_count": 43,
   "metadata": {},
   "outputs": [
    {
     "name": "stdout",
     "output_type": "stream",
     "text": [
      "1001000.0\n"
     ]
    }
   ],
   "source": [
    "# 1. Ежегодные O&M costs\n",
    "\n",
    "OnM_cost_year = AEP * OnM_cost\n",
    "print(OnM_cost_year)"
   ]
  },
  {
   "cell_type": "code",
   "execution_count": 44,
   "metadata": {},
   "outputs": [
    {
     "name": "stdout",
     "output_type": "stream",
     "text": [
      "8250000.0\n"
     ]
    }
   ],
   "source": [
    "# 2. Ежегодная выручка\n",
    "\n",
    "AR = AEP * ESP\n",
    "print(AR)"
   ]
  },
  {
   "cell_type": "code",
   "execution_count": 45,
   "metadata": {},
   "outputs": [
    {
     "name": "stdout",
     "output_type": "stream",
     "text": [
      "7249000.0\n"
     ]
    }
   ],
   "source": [
    " # 3. Ежегодный чистый доход\n",
    "\n",
    "ANI = AR - OnM_cost_year\n",
    "print(ANI)"
   ]
  },
  {
   "cell_type": "code",
   "execution_count": 46,
   "metadata": {},
   "outputs": [
    {
     "name": "stdout",
     "output_type": "stream",
     "text": [
      "6171750.56\n"
     ]
    }
   ],
   "source": [
    "# 4. NPV: сумма дисконтированных ANI минус начальные затраты CI\n",
    "\n",
    "NPV = 0.0\n",
    "\n",
    "for p in range(1, P + 1):\n",
    "    NPV += ANI / (1 + R) ** p\n",
    "\n",
    "NPV = NPV - CI\n",
    "print(round(NPV, 2))"
   ]
  },
  {
   "cell_type": "markdown",
   "metadata": {},
   "source": [
    "## Calculation of the aligned energy cost (LCOE) of a wind farm"
   ]
  },
  {
   "cell_type": "code",
   "execution_count": 47,
   "metadata": {},
   "outputs": [
    {
     "name": "stdout",
     "output_type": "stream",
     "text": [
      "9827965.55\n"
     ]
    }
   ],
   "source": [
    " # 5. PVM: приведённая стоимость всех O&M\n",
    "\n",
    "PVM = 0.0\n",
    "\n",
    "for p in range(1, P + 1):\n",
    "    PVM += OnM_cost_year / (1 + R) ** p\n",
    "\n",
    "print(round(PVM, 2))"
   ]
  },
  {
   "cell_type": "code",
   "execution_count": 48,
   "metadata": {},
   "outputs": [
    {
     "name": "stdout",
     "output_type": "stream",
     "text": [
      "643644.62\n"
     ]
    }
   ],
   "source": [
    "# 6. PVD: приведённая стоимость демонтажа, считаем, что DC падает в последний год (p = years)\n",
    "\n",
    "PVD = DC / ((1 + R) ** 20)\n",
    "print(round(PVD, 2))"
   ]
  },
  {
   "cell_type": "code",
   "execution_count": 49,
   "metadata": {},
   "outputs": [
    {
     "name": "stdout",
     "output_type": "stream",
     "text": [
      "75471610.18\n"
     ]
    }
   ],
   "source": [
    "# 7. PVC: суммарная приведённая стоимость всех затрат\n",
    "\n",
    "PVC = CI + PVM + PVD\n",
    "print(round(PVC, 2))"
   ]
  },
  {
   "cell_type": "code",
   "execution_count": 50,
   "metadata": {},
   "outputs": [
    {
     "name": "stdout",
     "output_type": "stream",
     "text": [
      "7686950.2\n"
     ]
    }
   ],
   "source": [
    "# 8. LAC (Levelized Annual Cost) — эквивалентная годовая плата, которую нужно «погашать» каждый год, чтобы окупить PVC\n",
    "# Формула аннуитета (вариант 1):\n",
    "LAC = PVC * (R / (1 - (1 / ((1 + R) ** P))))\n",
    "print(round(LAC, 2))"
   ]
  },
  {
   "cell_type": "code",
   "execution_count": 51,
   "metadata": {},
   "outputs": [
    {
     "name": "stdout",
     "output_type": "stream",
     "text": [
      "0.07\n"
     ]
    }
   ],
   "source": [
    "# 9. LCoE (Levelized Cost of Energy): делим LAC на AEP\n",
    "LCOE = LAC / AEP\n",
    "print(round(LCOE, 2))"
   ]
  }
 ],
 "metadata": {
  "kernelspec": {
   "display_name": "Python 3",
   "language": "python",
   "name": "python3"
  },
  "language_info": {
   "codemirror_mode": {
    "name": "ipython",
    "version": 3
   },
   "file_extension": ".py",
   "mimetype": "text/x-python",
   "name": "python",
   "nbconvert_exporter": "python",
   "pygments_lexer": "ipython3",
   "version": "3.11.0"
  }
 },
 "nbformat": 4,
 "nbformat_minor": 2
}
