{
  "cells": [
    {
      "cell_type": "markdown",
      "metadata": {
        "id": "AgNlnz6rpHik"
      },
      "source": [
        "# Wind Farm Design for minimizing LCOE"
      ]
    },
    {
      "cell_type": "code",
      "source": [
        "from matplotlib import pyplot as ppt"
      ],
      "metadata": {
        "id": "Ri_sdiQKpRlq"
      },
      "execution_count": null,
      "outputs": []
    },
    {
      "cell_type": "markdown",
      "metadata": {
        "id": "KR9NtqLipHio"
      },
      "source": [
        "## Parameters"
      ]
    },
    {
      "cell_type": "code",
      "execution_count": null,
      "metadata": {
        "id": "1DjrUFJzpHip"
      },
      "outputs": [],
      "source": [
        "N_TURB = 50 # -- number pf turbines (-)\n",
        "PPT = 10 # -- power per turbine (MWh)\n",
        "PAEP = N_TURB * PPT # -- gross annual energy production (MWh)\n",
        "WFA = 1 # -- wind farm availability (0-1)\n",
        "RD = 4.5 # -- rotor diameter (m)"
      ]
    },
    {
      "cell_type": "code",
      "execution_count": null,
      "metadata": {
        "id": "nqQN-tpUpHir"
      },
      "outputs": [],
      "source": [
        "WL = 0.09\n",
        "OL = 0 # -- other losses (MWh)\n",
        "L = (1 - WFA) + WL + OL"
      ]
    },
    {
      "cell_type": "code",
      "execution_count": null,
      "metadata": {
        "id": "LhLCPCLQpHit"
      },
      "outputs": [],
      "source": [
        "AEP = 0 # -- annual energy production (MWh) TBF\n",
        "LCOE = 0 # -- levelized cost of energy (eur/MWh) TBF"
      ]
    },
    {
      "cell_type": "markdown",
      "metadata": {
        "id": "65V1Y9C4pHit"
      },
      "source": [
        "Чтобы рассчитать грубую (gross) годовую выработку энергии для ветропарка из 50 турбин мощностью 10 МВт каждая, мы используем следующую формулу:\n",
        "\n",
        "E(gross) = P(installed) * h(full-growth)\n",
        "​\n",
        "\n",
        "h(full-growth) — установленная мощность в МВт,\n",
        "\n",
        "P(installed) — число эквивалентных часов полной нагрузки в году (Full Load Hours, FLH)."
      ]
    },
    {
      "cell_type": "code",
      "execution_count": null,
      "metadata": {
        "id": "bpBOoxZxpHiu",
        "outputId": "1a2230c7-f6a5-41e3-b899-a4ea45b61343",
        "colab": {
          "base_uri": "https://localhost:8080/"
        }
      },
      "outputs": [
        {
          "output_type": "execute_result",
          "data": {
            "text/plain": [
              "2190.0"
            ]
          },
          "metadata": {},
          "execution_count": 44
        }
      ],
      "source": [
        "CF = 0.5 # -- capacity factor (0-1)\n",
        "\n",
        "GAEP = (PAEP * 365 * 24 * CF) / 1000 # -- gross annual energy production (MWh)\n",
        "GAEP"
      ]
    },
    {
      "cell_type": "code",
      "execution_count": null,
      "metadata": {
        "id": "C6vCFaGRpHiu",
        "outputId": "7de1a7b8-5133-4e14-fb5d-f6d6a82b0ee1",
        "colab": {
          "base_uri": "https://localhost:8080/"
        }
      },
      "outputs": [
        {
          "output_type": "stream",
          "name": "stdout",
          "text": [
            "1992.9\n"
          ]
        }
      ],
      "source": [
        "AEP = (GAEP) * (1 - L)\n",
        "print(AEP)"
      ]
    },
    {
      "cell_type": "code",
      "execution_count": null,
      "metadata": {
        "id": "r6Cq-mH5pHiv",
        "outputId": "19b0326f-48e2-4bf2-9256-d6a95bf51e59",
        "colab": {
          "base_uri": "https://localhost:8080/"
        }
      },
      "outputs": [
        {
          "output_type": "stream",
          "name": "stdout",
          "text": [
            "1756.8334525766882\n"
          ]
        }
      ],
      "source": [
        "L = 2.75 * (RD)**(-1.75) # -- wake losses (MWh)\n",
        "AEP = (GAEP) * (1 - L)\n",
        "print(AEP)"
      ]
    },
    {
      "cell_type": "code",
      "source": [
        "RD_range = list(range(4, 13))"
      ],
      "metadata": {
        "id": "9pSL6jWdpaw8"
      },
      "execution_count": null,
      "outputs": []
    },
    {
      "cell_type": "code",
      "source": [
        "AEP_range = []\n",
        "\n",
        "for i in RD_range:\n",
        "  WL = 2.75 * (i ** (-1.75))\n",
        "  AEP_range.append(GAEP * (1 - WL))"
      ],
      "metadata": {
        "id": "gkqhywX0pfTs"
      },
      "execution_count": null,
      "outputs": []
    },
    {
      "cell_type": "code",
      "source": [
        "AEP_range"
      ],
      "metadata": {
        "colab": {
          "base_uri": "https://localhost:8080/"
        },
        "id": "3BGU2f2jp2sJ",
        "outputId": "6eb4fc50-1cf9-4bc1-b6a9-c77a126bd8e2"
      },
      "execution_count": null,
      "outputs": [
        {
          "output_type": "execute_result",
          "data": {
            "text/plain": [
              "[1657.6811762880022,\n",
              " 1829.770478603808,\n",
              " 1928.1743921252396,\n",
              " 1990.0804623913284,\n",
              " 2031.7406668479532,\n",
              " 2061.2188149557587,\n",
              " 2082.9031225304057,\n",
              " 2099.355885723297,\n",
              " 2112.1587810563556]"
            ]
          },
          "metadata": {},
          "execution_count": 49
        }
      ]
    },
    {
      "cell_type": "code",
      "source": [
        "ppt.plot(RD_range, AEP_range)\n",
        "ppt.show()"
      ],
      "metadata": {
        "colab": {
          "base_uri": "https://localhost:8080/",
          "height": 430
        },
        "id": "qKoVCHisp51c",
        "outputId": "31e384b9-094f-4b6a-909a-2a80fb3b19db"
      },
      "execution_count": null,
      "outputs": [
        {
          "output_type": "display_data",
          "data": {
            "text/plain": [
              "<Figure size 640x480 with 1 Axes>"
            ],
            "image/png": "[encoded data removed]"
          },
          "metadata": {}
        }
      ]
    },
    {
      "cell_type": "code",
      "source": [
        "CAPEX = 3315\n",
        "OPEX = 80"
      ],
      "metadata": {
        "id": "TCs3mH-t4GAW"
      },
      "execution_count": null,
      "outputs": []
    },
    {
      "cell_type": "code",
      "source": [
        "EI = 0.117 * CAPEX\n",
        "EC = 31.5 * RD * 1000000\n",
        "EI"
      ],
      "metadata": {
        "colab": {
          "base_uri": "https://localhost:8080/"
        },
        "id": "TpUdH7I653qa",
        "outputId": "73ef714e-5041-4dfe-9025-bd19b61586a4"
      },
      "execution_count": null,
      "outputs": [
        {
          "output_type": "execute_result",
          "data": {
            "text/plain": [
              "387.855"
            ]
          },
          "metadata": {},
          "execution_count": 76
        }
      ]
    },
    {
      "cell_type": "code",
      "source": [
        "FCR = 0.0578 # -- fixed charge rate ( )\n",
        "BOS = 0 # -- balance of station cost (eur)\n",
        "TCC = 0 # -- turbine capital cost (eur)\n",
        "AOE = 0 # -- annual operating expenses (eur)"
      ],
      "metadata": {
        "id": "9MVdGSdC5uhV"
      },
      "execution_count": null,
      "outputs": []
    },
    {
      "cell_type": "code",
      "source": [
        "LCOE = (FCR * (CAPEX) + OPEX) / AEP\n",
        "LCOE"
      ],
      "metadata": {
        "colab": {
          "base_uri": "https://localhost:8080/"
        },
        "id": "bi_fyrnN-jzc",
        "outputId": "bd1ccfca-135a-4f3d-eab9-82f2f8f07868"
      },
      "execution_count": null,
      "outputs": [
        {
          "output_type": "execute_result",
          "data": {
            "text/plain": [
              "0.17623013698077633"
            ]
          },
          "metadata": {},
          "execution_count": 77
        }
      ]
    },
    {
      "cell_type": "code",
      "execution_count": null,
      "metadata": {
        "id": "j0vQAKSapHiv"
      },
      "outputs": [],
      "source": [
        "# LCOE = (FCR * (BOS + TCC) + AOE) / AEP\n",
        "LCOE_range = []\n",
        "CAPEX_range = []\n",
        "\n",
        "for i in range(len(RD_range)):\n",
        "  # Calculate the LCOE value first\n",
        "  capex_value = CAPEX + 31.5 * RD_range[i]\n",
        "  lcoe_value = ((FCR * capex_value) + OPEX) / AEP_range[i]\n",
        "  # Then append it to the list\n",
        "  LCOE_range.append(lcoe_value)\n",
        "  CAPEX_range.append(capex_value)"
      ]
    },
    {
      "cell_type": "code",
      "source": [
        "LCOE_range"
      ],
      "metadata": {
        "colab": {
          "base_uri": "https://localhost:8080/"
        },
        "id": "1Jtqw8Ai7wfc",
        "outputId": "8cc3f05a-5034-4f69-eb91-3721b0307dcd"
      },
      "execution_count": null,
      "outputs": [
        {
          "output_type": "execute_result",
          "data": {
            "text/plain": [
              "[0.07576371717101521,\n",
              " 0.0696332077109591,\n",
              " 0.06702375486771114,\n",
              " 0.0658537130918426,\n",
              " 0.06539953152886505,\n",
              " 0.0653475442891739,\n",
              " 0.06554135251098658,\n",
              " 0.06589496747110049,\n",
              " 0.0663575527829886]"
            ]
          },
          "metadata": {},
          "execution_count": 71
        }
      ]
    },
    {
      "cell_type": "code",
      "source": [
        "ppt.plot(RD_range, CAPEX_range)\n",
        "ppt.show()"
      ],
      "metadata": {
        "colab": {
          "base_uri": "https://localhost:8080/",
          "height": 430
        },
        "id": "tBofWW0o94uH",
        "outputId": "4e348066-3a48-4e6f-fc57-1680f59d0599"
      },
      "execution_count": null,
      "outputs": [
        {
          "output_type": "display_data",
          "data": {
            "text/plain": [
              "<Figure size 640x480 with 1 Axes>"
            ],
            "image/png": "[encoded data removed]"
          },
          "metadata": {}
        }
      ]
    },
    {
      "cell_type": "code",
      "source": [
        "ppt.plot(RD_range, LCOE_range)\n",
        "ppt.show()"
      ],
      "metadata": {
        "colab": {
          "base_uri": "https://localhost:8080/",
          "height": 430
        },
        "id": "mpphXoRr-AKJ",
        "outputId": "b50b424c-8886-42ce-d166-2cbd9f30b424"
      },
      "execution_count": null,
      "outputs": [
        {
          "output_type": "display_data",
          "data": {
            "text/plain": [
              "<Figure size 640x480 with 1 Axes>"
            ],
            "image/png": "[encoded data removed]"
          },
          "metadata": {}
        }
      ]
    },
    {
      "cell_type": "code",
      "execution_count": null,
      "metadata": {
        "id": "sQynz2kkpHiv"
      },
      "outputs": [],
      "source": []
    }
  ],
  "metadata": {
    "kernelspec": {
      "display_name": "Python 3",
      "language": "python",
      "name": "python3"
    },
    "language_info": {
      "codemirror_mode": {
        "name": "ipython",
        "version": 3
      },
      "file_extension": ".py",
      "mimetype": "text/x-python",
      "name": "python",
      "nbconvert_exporter": "python",
      "pygments_lexer": "ipython3",
      "version": "3.11.0"
    },
    "colab": {
      "provenance": []
    }
  },
  "nbformat": 4,
  "nbformat_minor": 0
}