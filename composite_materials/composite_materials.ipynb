{
 "cells": [
  {
   "cell_type": "markdown",
   "id": "55f3bea4",
   "metadata": {},
   "source": [
    "# Composite materials for wind energy applications"
   ]
  },
  {
   "cell_type": "markdown",
   "id": "1645cff1",
   "metadata": {},
   "source": [
    "Description of rule of mixtures"
   ]
  },
  {
   "cell_type": "markdown",
   "id": "9a6a571c",
   "metadata": {},
   "source": [
    "## Libs"
   ]
  },
  {
   "cell_type": "code",
   "execution_count": 1,
   "id": "6d71c70b",
   "metadata": {},
   "outputs": [],
   "source": [
    "import pandas as pd\n",
    "import matplotlib.pyplot as plt"
   ]
  },
  {
   "cell_type": "markdown",
   "id": "182676d8",
   "metadata": {},
   "source": [
    "## The stiffness in longitudinal fiber direction"
   ]
  },
  {
   "cell_type": "code",
   "execution_count": null,
   "id": "62dc9972",
   "metadata": {},
   "outputs": [],
   "source": []
  }
 ],
 "metadata": {
  "kernelspec": {
   "display_name": "Python 3",
   "language": "python",
   "name": "python3"
  },
  "language_info": {
   "codemirror_mode": {
    "name": "ipython",
    "version": 3
   },
   "file_extension": ".py",
   "mimetype": "text/x-python",
   "name": "python",
   "nbconvert_exporter": "python",
   "pygments_lexer": "ipython3",
   "version": "3.11.0"
  }
 },
 "nbformat": 4,
 "nbformat_minor": 5
}
